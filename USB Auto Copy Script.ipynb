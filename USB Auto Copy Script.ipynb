{
 "cells": [
  {
   "cell_type": "code",
   "execution_count": 1,
   "id": "750341f6-a789-41ec-92a3-3042248dd1c6",
   "metadata": {},
   "outputs": [
    {
     "name": "stdout",
     "output_type": "stream",
     "text": [
      "Requirement already satisfied: watchdog in c:\\users\\camilo\\anaconda3\\lib\\site-packages (4.0.1)Note: you may need to restart the kernel to use updated packages.\n",
      "\n"
     ]
    }
   ],
   "source": [
    "pip install watchdog"
   ]
  },
  {
   "cell_type": "code",
   "execution_count": 3,
   "id": "da235df4-8616-43cf-95c2-cc101763d49b",
   "metadata": {},
   "outputs": [
    {
     "name": "stdout",
     "output_type": "stream",
     "text": [
      "Esperando que se conecte una unidad USB...\n",
      "Nueva unidad conectada: D:\\\n",
      "Copiando archivo: D:\\hola.xlsx a C:\\Users\\Camilo/Desktop/Archivos_2024-10-08_12-54-27\\hola.xlsx\n",
      "Copiando archivo: D:\\hola.docx a C:\\Users\\Camilo/Desktop/Archivos_2024-10-08_12-54-27\\hola.docx\n",
      "Archivos copiados en: C:\\Users\\Camilo/Desktop/Archivos_2024-10-08_12-54-27\n",
      "Nueva unidad conectada: D:\\\n",
      "Copiando archivo: D:\\hola.xlsx a C:\\Users\\Camilo/Desktop/Archivos_2024-10-08_12-57-13\\hola.xlsx\n",
      "Copiando archivo: D:\\hola.docx a C:\\Users\\Camilo/Desktop/Archivos_2024-10-08_12-57-13\\hola.docx\n",
      "Archivos copiados en: C:\\Users\\Camilo/Desktop/Archivos_2024-10-08_12-57-13\n"
     ]
    },
    {
     "ename": "KeyboardInterrupt",
     "evalue": "",
     "output_type": "error",
     "traceback": [
      "\u001b[1;31m---------------------------------------------------------------------------\u001b[0m",
      "\u001b[1;31mKeyboardInterrupt\u001b[0m                         Traceback (most recent call last)",
      "Cell \u001b[1;32mIn[3], line 58\u001b[0m\n\u001b[0;32m     55\u001b[0m         connected_drives \u001b[38;5;241m=\u001b[39m current_drives\n\u001b[0;32m     57\u001b[0m \u001b[38;5;28;01mif\u001b[39;00m \u001b[38;5;18m__name__\u001b[39m \u001b[38;5;241m==\u001b[39m \u001b[38;5;124m\"\u001b[39m\u001b[38;5;124m__main__\u001b[39m\u001b[38;5;124m\"\u001b[39m:\n\u001b[1;32m---> 58\u001b[0m     monitor_usb_connections()\n",
      "Cell \u001b[1;32mIn[3], line 44\u001b[0m, in \u001b[0;36mmonitor_usb_connections\u001b[1;34m()\u001b[0m\n\u001b[0;32m     41\u001b[0m \u001b[38;5;28mprint\u001b[39m(\u001b[38;5;124m\"\u001b[39m\u001b[38;5;124mEsperando que se conecte una unidad USB...\u001b[39m\u001b[38;5;124m\"\u001b[39m)\n\u001b[0;32m     43\u001b[0m \u001b[38;5;28;01mwhile\u001b[39;00m \u001b[38;5;28;01mTrue\u001b[39;00m:\n\u001b[1;32m---> 44\u001b[0m     time\u001b[38;5;241m.\u001b[39msleep(\u001b[38;5;241m5\u001b[39m)  \u001b[38;5;66;03m# Revisa cada 5 segundos\u001b[39;00m\n\u001b[0;32m     45\u001b[0m     current_drives \u001b[38;5;241m=\u001b[39m \u001b[38;5;28mset\u001b[39m(get_usb_drives())\n\u001b[0;32m     47\u001b[0m     \u001b[38;5;66;03m# Detectar nuevas unidades conectadas\u001b[39;00m\n",
      "\u001b[1;31mKeyboardInterrupt\u001b[0m: "
     ]
    }
   ],
   "source": [
    "import os\n",
    "import shutil\n",
    "import psutil\n",
    "import time\n",
    "from datetime import datetime\n",
    "\n",
    "# Función para obtener la letra de unidades de almacenamiento conectadas\n",
    "def get_usb_drives():\n",
    "    drives = []\n",
    "    partitions = psutil.disk_partitions()\n",
    "    for partition in partitions:\n",
    "        if 'removable' in partition.opts:\n",
    "            drives.append(partition.mountpoint)\n",
    "    return drives\n",
    "\n",
    "# Función para copiar los archivos más recientes del último día a una carpeta en el escritorio\n",
    "def copy_recent_files_from_usb(usb_directory):\n",
    "    today = datetime.now().date()\n",
    "    current_time = datetime.now().strftime(\"%Y-%m-%d_%H-%M-%S\")\n",
    "    destination_directory = os.path.expanduser(f\"~/Desktop/Archivos_{current_time}\")\n",
    "    \n",
    "    if not os.path.exists(destination_directory):\n",
    "        os.makedirs(destination_directory)\n",
    "    \n",
    "    # Recorrer los archivos en la memoria USB\n",
    "    for foldername, subfolders, filenames in os.walk(usb_directory):\n",
    "        for filename in filenames:\n",
    "            file_path = os.path.join(foldername, filename)\n",
    "            file_creation_time = datetime.fromtimestamp(os.path.getmtime(file_path)).date()\n",
    "            \n",
    "            # Copiar archivos creados o modificados hoy\n",
    "            if file_creation_time == today:\n",
    "                dest_path = os.path.join(destination_directory, filename)\n",
    "                print(f\"Copiando archivo: {file_path} a {dest_path}\")\n",
    "                shutil.copy2(file_path, dest_path)\n",
    "    print(f\"Archivos copiados en: {destination_directory}\")\n",
    "\n",
    "# Función para monitorear nuevas conexiones USB\n",
    "def monitor_usb_connections():\n",
    "    connected_drives = set(get_usb_drives())\n",
    "    print(\"Esperando que se conecte una unidad USB...\")\n",
    "\n",
    "    while True:\n",
    "        time.sleep(5)  # Revisa cada 5 segundos\n",
    "        current_drives = set(get_usb_drives())\n",
    "\n",
    "        # Detectar nuevas unidades conectadas\n",
    "        new_drives = current_drives - connected_drives\n",
    "\n",
    "        if new_drives:\n",
    "            for drive in new_drives:\n",
    "                print(f\"Nueva unidad conectada: {drive}\")\n",
    "                copy_recent_files_from_usb(drive)\n",
    "\n",
    "        connected_drives = current_drives\n",
    "\n",
    "if __name__ == \"__main__\":\n",
    "    monitor_usb_connections()\n"
   ]
  },
  {
   "cell_type": "code",
   "execution_count": null,
   "id": "e3ebeb51-236f-453e-b35b-f52c8e73b840",
   "metadata": {},
   "outputs": [],
   "source": []
  }
 ],
 "metadata": {
  "kernelspec": {
   "display_name": "Python 3 (ipykernel)",
   "language": "python",
   "name": "python3"
  },
  "language_info": {
   "codemirror_mode": {
    "name": "ipython",
    "version": 3
   },
   "file_extension": ".py",
   "mimetype": "text/x-python",
   "name": "python",
   "nbconvert_exporter": "python",
   "pygments_lexer": "ipython3",
   "version": "3.12.4"
  }
 },
 "nbformat": 4,
 "nbformat_minor": 5
}
